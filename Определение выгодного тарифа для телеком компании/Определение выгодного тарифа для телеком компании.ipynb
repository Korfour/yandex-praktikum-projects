{
 "cells": [
  {
   "cell_type": "markdown",
   "metadata": {},
   "source": [
    "# Рекомендация тарифов"
   ]
  },
  {
   "cell_type": "markdown",
   "metadata": {},
   "source": [
    "# Описание проекта"
   ]
  },
  {
   "cell_type": "markdown",
   "metadata": {},
   "source": [
    "Оператор мобильной связи выяснил: многие клиенты пользуются архивными тарифами. \n",
    "Они хотят построить систему, способную проанализировать поведение клиентов и предложить пользователям новый тариф: «Смарт» или «Ультра».\n",
    "\n",
    "В нашем распоряжении данные о поведении клиентов, которые уже перешли на эти тарифы. \n",
    "Нужно построить модель для задачи классификации, которая выберет подходящий тариф. "
   ]
  },
  {
   "cell_type": "markdown",
   "metadata": {
    "toc": true
   },
   "source": [
    "<h1>Содержание<span class=\"tocSkip\"></span></h1>\n",
    "<div class=\"toc\"><ul class=\"toc-item\"><li><span><a href=\"#Откроем-и-изучим-файл\" data-toc-modified-id=\"Откроем-и-изучим-файл-1\"><span class=\"toc-item-num\">1&nbsp;&nbsp;</span>Откроем и изучим файл</a></span></li><li><span><a href=\"#Разобьём-данные-на-выборки\" data-toc-modified-id=\"Разобьём-данные-на-выборки-2\"><span class=\"toc-item-num\">2&nbsp;&nbsp;</span>Разобьём данные на выборки</a></span></li><li><span><a href=\"#Исследуем-модели\" data-toc-modified-id=\"Исследуем-модели-3\"><span class=\"toc-item-num\">3&nbsp;&nbsp;</span>Исследуем модели</a></span><ul class=\"toc-item\"><li><span><a href=\"#Дерево-принятия-решений\" data-toc-modified-id=\"Дерево-принятия-решений-3.1\"><span class=\"toc-item-num\">3.1&nbsp;&nbsp;</span>Дерево принятия решений</a></span></li><li><span><a href=\"#Случайный-лес\" data-toc-modified-id=\"Случайный-лес-3.2\"><span class=\"toc-item-num\">3.2&nbsp;&nbsp;</span>Случайный лес</a></span></li><li><span><a href=\"#Логистическая-регрессия\" data-toc-modified-id=\"Логистическая-регрессия-3.3\"><span class=\"toc-item-num\">3.3&nbsp;&nbsp;</span>Логистическая регрессия</a></span></li></ul></li><li><span><a href=\"#Проверим-модель-на-тестовой-выборке\" data-toc-modified-id=\"Проверим-модель-на-тестовой-выборке-4\"><span class=\"toc-item-num\">4&nbsp;&nbsp;</span>Проверим модель на тестовой выборке</a></span></li><li><span><a href=\"#Проверим-модели-на-адекватность\" data-toc-modified-id=\"Проверим-модели-на-адекватность-5\"><span class=\"toc-item-num\">5&nbsp;&nbsp;</span>Проверим модели на адекватность</a></span></li><li><span><a href=\"#Общий-вывод\" data-toc-modified-id=\"Общий-вывод-6\"><span class=\"toc-item-num\">6&nbsp;&nbsp;</span>Общий вывод</a></span></li></ul></div>"
   ]
  },
  {
   "cell_type": "markdown",
   "metadata": {},
   "source": [
    "## Откроем и изучим файл"
   ]
  },
  {
   "cell_type": "code",
   "execution_count": 1,
   "metadata": {},
   "outputs": [],
   "source": [
    "# Импорт библиотек\n",
    "import warnings\n",
    "warnings.filterwarnings(\"ignore\")\n",
    "import pandas as pd\n",
    "from sklearn.metrics import accuracy_score\n",
    "from sklearn.tree import DecisionTreeClassifier\n",
    "from sklearn.model_selection import train_test_split\n",
    "from sklearn.linear_model import LogisticRegression\n",
    "from sklearn.ensemble import RandomForestClassifier\n",
    "from sklearn.dummy import DummyClassifier"
   ]
  },
  {
   "cell_type": "code",
   "execution_count": 2,
   "metadata": {},
   "outputs": [],
   "source": [
    "df = pd.read_csv('datasets/users_behavior.csv') #открываем файл"
   ]
  },
  {
   "cell_type": "code",
   "execution_count": 3,
   "metadata": {},
   "outputs": [
    {
     "data": {
      "text/html": [
       "<div>\n",
       "<style scoped>\n",
       "    .dataframe tbody tr th:only-of-type {\n",
       "        vertical-align: middle;\n",
       "    }\n",
       "\n",
       "    .dataframe tbody tr th {\n",
       "        vertical-align: top;\n",
       "    }\n",
       "\n",
       "    .dataframe thead th {\n",
       "        text-align: right;\n",
       "    }\n",
       "</style>\n",
       "<table border=\"1\" class=\"dataframe\">\n",
       "  <thead>\n",
       "    <tr style=\"text-align: right;\">\n",
       "      <th></th>\n",
       "      <th>calls</th>\n",
       "      <th>minutes</th>\n",
       "      <th>messages</th>\n",
       "      <th>mb_used</th>\n",
       "      <th>is_ultra</th>\n",
       "    </tr>\n",
       "  </thead>\n",
       "  <tbody>\n",
       "    <tr>\n",
       "      <th>0</th>\n",
       "      <td>40.0</td>\n",
       "      <td>311.90</td>\n",
       "      <td>83.0</td>\n",
       "      <td>19915.42</td>\n",
       "      <td>0</td>\n",
       "    </tr>\n",
       "    <tr>\n",
       "      <th>1</th>\n",
       "      <td>85.0</td>\n",
       "      <td>516.75</td>\n",
       "      <td>56.0</td>\n",
       "      <td>22696.96</td>\n",
       "      <td>0</td>\n",
       "    </tr>\n",
       "    <tr>\n",
       "      <th>2</th>\n",
       "      <td>77.0</td>\n",
       "      <td>467.66</td>\n",
       "      <td>86.0</td>\n",
       "      <td>21060.45</td>\n",
       "      <td>0</td>\n",
       "    </tr>\n",
       "    <tr>\n",
       "      <th>3</th>\n",
       "      <td>106.0</td>\n",
       "      <td>745.53</td>\n",
       "      <td>81.0</td>\n",
       "      <td>8437.39</td>\n",
       "      <td>1</td>\n",
       "    </tr>\n",
       "    <tr>\n",
       "      <th>4</th>\n",
       "      <td>66.0</td>\n",
       "      <td>418.74</td>\n",
       "      <td>1.0</td>\n",
       "      <td>14502.75</td>\n",
       "      <td>0</td>\n",
       "    </tr>\n",
       "  </tbody>\n",
       "</table>\n",
       "</div>"
      ],
      "text/plain": [
       "   calls  minutes  messages   mb_used  is_ultra\n",
       "0   40.0   311.90      83.0  19915.42         0\n",
       "1   85.0   516.75      56.0  22696.96         0\n",
       "2   77.0   467.66      86.0  21060.45         0\n",
       "3  106.0   745.53      81.0   8437.39         1\n",
       "4   66.0   418.74       1.0  14502.75         0"
      ]
     },
     "execution_count": 3,
     "metadata": {},
     "output_type": "execute_result"
    }
   ],
   "source": [
    "df.head()"
   ]
  },
  {
   "cell_type": "code",
   "execution_count": 4,
   "metadata": {},
   "outputs": [
    {
     "name": "stdout",
     "output_type": "stream",
     "text": [
      "<class 'pandas.core.frame.DataFrame'>\n",
      "RangeIndex: 3214 entries, 0 to 3213\n",
      "Data columns (total 5 columns):\n",
      " #   Column    Non-Null Count  Dtype  \n",
      "---  ------    --------------  -----  \n",
      " 0   calls     3214 non-null   float64\n",
      " 1   minutes   3214 non-null   float64\n",
      " 2   messages  3214 non-null   float64\n",
      " 3   mb_used   3214 non-null   float64\n",
      " 4   is_ultra  3214 non-null   int64  \n",
      "dtypes: float64(4), int64(1)\n",
      "memory usage: 125.7 KB\n"
     ]
    }
   ],
   "source": [
    "df.info()"
   ]
  },
  {
   "cell_type": "markdown",
   "metadata": {},
   "source": [
    "###### Вывод:\n",
    "\n",
    "В наших руках обработанные данные без пропусков и готовые к обучению."
   ]
  },
  {
   "cell_type": "markdown",
   "metadata": {},
   "source": [
    "## Разобьём данные на выборки"
   ]
  },
  {
   "cell_type": "code",
   "execution_count": 5,
   "metadata": {},
   "outputs": [],
   "source": [
    "#разабьем данные на признаки и целевой признак\n",
    "features = df.drop(['is_ultra'], axis=1) #признаки\n",
    "target = df['is_ultra'] #целевой признак"
   ]
  },
  {
   "cell_type": "code",
   "execution_count": 6,
   "metadata": {},
   "outputs": [],
   "source": [
    "# Разделим исходные данные на обучающую, валидационную и тестовую выборки \n",
    "features_df, features_valid, target_df, target_valid = train_test_split(\n",
    "    features, target, test_size=0.20, random_state=12345, stratify = target)\n",
    "\n",
    "features_train, features_test, target_train, target_test = train_test_split(\n",
    "    features_df, target_df, test_size=0.25, random_state=12345, stratify = target_df)"
   ]
  },
  {
   "cell_type": "code",
   "execution_count": 7,
   "metadata": {},
   "outputs": [
    {
     "name": "stdout",
     "output_type": "stream",
     "text": [
      "(1928, 4)\n",
      "(1928,)\n",
      "(643, 4)\n",
      "(643,)\n",
      "(643, 4)\n",
      "(643,)\n"
     ]
    }
   ],
   "source": [
    "print(features_train.shape)\n",
    "print(target_train.shape)\n",
    "print(features_test.shape)\n",
    "print(target_test.shape)\n",
    "print(features_valid.shape)\n",
    "print(target_valid.shape)"
   ]
  },
  {
   "cell_type": "markdown",
   "metadata": {},
   "source": [
    "## Исследуем модели"
   ]
  },
  {
   "cell_type": "markdown",
   "metadata": {},
   "source": [
    "### Дерево принятия решений "
   ]
  },
  {
   "cell_type": "markdown",
   "metadata": {},
   "source": [
    "###### Попробуем получить лучшую глубину дерева с помощью цикла"
   ]
  },
  {
   "cell_type": "code",
   "execution_count": 8,
   "metadata": {},
   "outputs": [
    {
     "name": "stdout",
     "output_type": "stream",
     "text": [
      "Accuracy наилучшей модели на валидационной выборке: 0.7993779160186625\n",
      "Лучшая глубина дерева: 3\n"
     ]
    }
   ],
   "source": [
    "best_model = None\n",
    "best_result = 0\n",
    "for depth in range(1, 80):\n",
    "    model_tree = DecisionTreeClassifier(random_state=12345, max_depth=depth) \n",
    "    model_tree.fit(features_train, target_train) \n",
    "    predictions = model_tree.predict(features_valid)\n",
    "    result = accuracy_score(target_valid, predictions)\n",
    "    if result > best_result:\n",
    "        best_model = model_tree\n",
    "        best_result = result\n",
    "        best_depth= max_depth = depth\n",
    "        \n",
    "print('Accuracy наилучшей модели на валидационной выборке:', best_result)\n",
    "print('Лучшая глубина дерева:', best_depth)        "
   ]
  },
  {
   "cell_type": "code",
   "execution_count": 9,
   "metadata": {},
   "outputs": [],
   "source": [
    "best_tree_model = DecisionTreeClassifier(random_state=12345, max_depth=3) # лучшая модель из дерева принятия решений\n",
    "best_tree_model.fit(features_train, target_train);"
   ]
  },
  {
   "cell_type": "markdown",
   "metadata": {},
   "source": [
    "### Случайный лес "
   ]
  },
  {
   "cell_type": "markdown",
   "metadata": {},
   "source": [
    "###### Выберем гиперпараметры с помощью цикла в случайном лесу"
   ]
  },
  {
   "cell_type": "code",
   "execution_count": 10,
   "metadata": {},
   "outputs": [
    {
     "name": "stdout",
     "output_type": "stream",
     "text": [
      "Accuracy наилучшей модели на валидационной выборке: 0.8242612752721618\n",
      "Лучшее дерево 50\n",
      "Лучшее глубина дерева 11\n"
     ]
    }
   ],
   "source": [
    "best_model = None\n",
    "best_result = 0\n",
    "best_est = 0\n",
    "best_depth = 0\n",
    "for est in range(10, 100, 10):\n",
    "    for depth in range(1, 15):\n",
    "        model_forest = RandomForestClassifier(random_state=12345, n_estimators=est, max_depth=depth) \n",
    "        model_forest.fit(features_train, target_train)\n",
    "        predictions = model_forest.predict(features_valid)\n",
    "        result = accuracy_score(target_valid, predictions) \n",
    "        if result > best_result:\n",
    "                best_model = model_forest\n",
    "                best_result = result\n",
    "                best_est = est\n",
    "                best_depth = depth\n",
    "print('Accuracy наилучшей модели на валидационной выборке:', best_result)\n",
    "print('Лучшее дерево', best_est)\n",
    "print('Лучшее глубина дерева', best_depth)"
   ]
  },
  {
   "cell_type": "code",
   "execution_count": 11,
   "metadata": {},
   "outputs": [],
   "source": [
    "best_forest_model = RandomForestClassifier(random_state=12345, n_estimators=50, max_depth=11) # лучшая модель из рандомного леса\n",
    "best_forest_model.fit(features_train, target_train);"
   ]
  },
  {
   "cell_type": "markdown",
   "metadata": {},
   "source": [
    "### Логистическая регрессия  "
   ]
  },
  {
   "cell_type": "markdown",
   "metadata": {},
   "source": [
    "###### Обучим модель с помощью логической регрессии"
   ]
  },
  {
   "cell_type": "code",
   "execution_count": 12,
   "metadata": {},
   "outputs": [
    {
     "name": "stdout",
     "output_type": "stream",
     "text": [
      "Accuracy модели логистической регрессии на обучающей выборке: 0.7463692946058091\n",
      "Accuracy модели логистической регрессии на валидационной выборке: 0.7371695178849145\n"
     ]
    }
   ],
   "source": [
    "model_logistic = LogisticRegression(random_state=12345, solver='lbfgs')\n",
    "model_logistic.fit(features_train, target_train) \n",
    "\n",
    "result_train = model_logistic.score(features_train, target_train)\n",
    "result_valid = model_logistic.score(features_valid, target_valid)\n",
    "\n",
    "print('Accuracy модели логистической регрессии на обучающей выборке:', result_train)\n",
    "print('Accuracy модели логистической регрессии на валидационной выборке:', result_valid)"
   ]
  },
  {
   "cell_type": "markdown",
   "metadata": {},
   "source": [
    "###### Значения аccuracy на обучающей и  валидационной выборки слишкмо малы. Такая модель нам не подходит, но  у логической регресии есть свой плюс, никакого переобучения."
   ]
  },
  {
   "cell_type": "markdown",
   "metadata": {},
   "source": [
    "## Проверим модель на тестовой выборке"
   ]
  },
  {
   "cell_type": "markdown",
   "metadata": {},
   "source": [
    "###### Для проверки моделей мы выбрали accuracy.\n",
    "    Каждое неправильное предсказание — это неверная подсказка и потенциальная упущенная выгода для продавца.\n",
    "    И наоборот: чем выше точность классификации, тем больше прибыли принесёт продукт."
   ]
  },
  {
   "cell_type": "code",
   "execution_count": 13,
   "metadata": {},
   "outputs": [
    {
     "name": "stdout",
     "output_type": "stream",
     "text": [
      "Accuracy модели дерева принятия решений на тестовой выборке: 0.8040435458786936\n",
      "Accuracy модели случайного леса на тестовой выборке: 0.8195956454121306\n"
     ]
    }
   ],
   "source": [
    "accuracy_tree = best_tree_model.score(features_test, target_test)\n",
    "print('Accuracy модели дерева принятия решений на тестовой выборке:' ,accuracy_tree)\n",
    "\n",
    "accuracy_forest =  best_forest_model.score(features_test, target_test)\n",
    "print('Accuracy модели случайного леса на тестовой выборке:' ,accuracy_forest)"
   ]
  },
  {
   "cell_type": "markdown",
   "metadata": {},
   "source": [
    "###### Метрика качества аccuracy показывает, что обе модели показали хорошие результаты на тестовой выборке.\n",
    "    Но лучшей стала модель случайного леса."
   ]
  },
  {
   "cell_type": "markdown",
   "metadata": {},
   "source": [
    "## Проверим модели на адекватность"
   ]
  },
  {
   "cell_type": "markdown",
   "metadata": {},
   "source": [
    "Для проверки модели на адекватность используем `DummyClassifier`\n",
    "\n",
    "`DummyClassifier`- это классификатор, который делает прогнозы с использованием простых правил.\n",
    "\n",
    "Этот классификатор полезен в качестве простого сравнения с другими классификаторами.\n",
    "\n",
    "Если наши алгоритмы лучше чем рандомный ответ, то модель прошла проверку на адекватность."
   ]
  },
  {
   "cell_type": "code",
   "execution_count": 14,
   "metadata": {},
   "outputs": [
    {
     "name": "stdout",
     "output_type": "stream",
     "text": [
      "Сравнение обучабщей выборки : 0.6934647302904564\n",
      "Сравнение валидационной выборки : 0.6936236391912908\n",
      "Сравнение тестовой выборки : 0.6936236391912908\n"
     ]
    }
   ],
   "source": [
    "dummy = DummyClassifier(strategy='most_frequent', random_state=12345)\n",
    "dummy.fit(features_train, target_train)\n",
    "\n",
    "dummy_train =  dummy.score(features_train, target_train)\n",
    "dummy_valid =  dummy.score(features_valid, target_valid)\n",
    "dummy_test =  dummy.score(features_test, target_test)\n",
    "\n",
    "print('Сравнение обучабщей выборки :', dummy_train)\n",
    "print('Сравнение валидационной выборки :',dummy_valid)\n",
    "print('Сравнение тестовой выборки :',dummy_test)"
   ]
  },
  {
   "cell_type": "code",
   "execution_count": 15,
   "metadata": {},
   "outputs": [
    {
     "name": "stdout",
     "output_type": "stream",
     "text": [
      "Значение лучшей модели на обучающей выборке : 0.8983402489626556\n",
      "Значение лучшей модели на валидационной выборке : 0.8242612752721618\n",
      "Значение лучшей модели на тестовой выборке : 0.8195956454121306\n"
     ]
    }
   ],
   "source": [
    "train_forest =  best_forest_model.score(features_train, target_train)\n",
    "valid_forest =  best_forest_model.score(features_valid, target_valid)\n",
    "test_forest =  best_forest_model.score(features_test, target_test)\n",
    "\n",
    "print('Значение лучшей модели на обучающей выборке :', train_forest)\n",
    "print('Значение лучшей модели на валидационной выборке :', valid_forest)\n",
    "print('Значение лучшей модели на тестовой выборке :', test_forest)"
   ]
  },
  {
   "cell_type": "markdown",
   "metadata": {},
   "source": [
    "## Общий вывод"
   ]
  },
  {
   "cell_type": "markdown",
   "metadata": {},
   "source": [
    "Мы построили модель для задачи классификации, которая выберет подходящий тариф.\n",
    "\n",
    "Лучшей моделью стал случайный лес с параметрами `n_estimators=50`, `max_depth=11`. \n",
    "\n",
    "На тестовой выборке мы получили значение `accuracy = 0.8195956454121306`\n",
    "\n",
    "При проверке модели на адекватность, получившиеся значения были больше случайно сгенерированных с помощью `DummyClassifier`, тем самым доказывая адекватность нашей модели."
   ]
  }
 ],
 "metadata": {
  "kernelspec": {
   "display_name": "Python 3",
   "language": "python",
   "name": "python3"
  },
  "language_info": {
   "codemirror_mode": {
    "name": "ipython",
    "version": 3
   },
   "file_extension": ".py",
   "mimetype": "text/x-python",
   "name": "python",
   "nbconvert_exporter": "python",
   "pygments_lexer": "ipython3",
   "version": "3.7.8"
  },
  "toc": {
   "base_numbering": 1,
   "nav_menu": {},
   "number_sections": true,
   "sideBar": true,
   "skip_h1_title": true,
   "title_cell": "Содержание",
   "title_sidebar": "Contents",
   "toc_cell": true,
   "toc_position": {},
   "toc_section_display": true,
   "toc_window_display": false
  }
 },
 "nbformat": 4,
 "nbformat_minor": 2
}
